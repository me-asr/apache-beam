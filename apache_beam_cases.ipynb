{
  "nbformat": 4,
  "nbformat_minor": 0,
  "metadata": {
    "colab": {
      "name": "apache_beam_case1.ipynb",
      "provenance": [],
      "collapsed_sections": []
    },
    "kernelspec": {
      "name": "python3",
      "display_name": "Python 3"
    }
  },
  "cells": [
    {
      "cell_type": "code",
      "metadata": {
        "id": "V-IM_cMm70-K"
      },
      "source": [
        "!pip3 install apache_beam"
      ],
      "execution_count": null,
      "outputs": []
    },
    {
      "cell_type": "markdown",
      "metadata": {
        "id": "5F5daw1a_m9p"
      },
      "source": [
        "**This is an example in which we will perform ETL on a csv file consisting of synthetic data(500,000 rows) of sales using Apache Beam using it's Python SDK.**\r\n",
        "\r\n",
        "**Headers**\r\n",
        "Region,Country,Item Type,Sales Channel,Order Priority,Order,Date,Order ID,Ship Date,Units Sold,Unit Price,Unit Cost,Total Revenue,Total Cost,Total Profit\r\n"
      ]
    },
    {
      "cell_type": "markdown",
      "metadata": {
        "id": "GvWBpVw3A31R"
      },
      "source": [
        "input file - SalesRecords.csv\r\n",
        "**Case 1**\r\n",
        "Get the total profit made by the *Item Type* s =[Clothes , Meat,Snacks,Fruits]\r\n",
        "\r\n",
        "output file - case1-00000-of-00001end.txt\r\n",
        "\r\n",
        "**Case 2**\r\n",
        "Get the min and max order placed(Total Revenue) by each Country  in 2011 via Online \r\n",
        "\r\n",
        "output file - case2-00000-of-00001end.txt\r\n",
        "\r\n",
        "\r\n"
      ]
    },
    {
      "cell_type": "code",
      "metadata": {
        "colab": {
          "base_uri": "https://localhost:8080/"
        },
        "id": "9l58Tmjt8Bql",
        "outputId": "5c6b3410-ec56-40ba-ece9-3c7197faa740"
      },
      "source": [
        "%%time\r\n",
        "#importing apache beam module\r\n",
        "import apache_beam as beam\r\n",
        "import datetime\r\n",
        "import sys \r\n",
        "\r\n",
        "#creating a beam pipeline object\r\n",
        "p1 = beam.Pipeline()\r\n",
        "\r\n",
        "import apache_beam as beam\r\n",
        "from apache_beam.io import WriteToText\r\n",
        "from apache_beam.options.pipeline_options import PipelineOptions\r\n",
        "\r\n",
        "#create list of required Item Types\r\n",
        "selectedItemTypes = [\"Clothes\",\"Meat\",\"Snacks\",\"Fruits\"]\r\n",
        "\r\n",
        "#create a ParDo function to filter the records. You can also just use the beam.Filter()\r\n",
        "class FilterItems(beam.DoFn):\r\n",
        "  def process(self,element):\r\n",
        "    if element[2] in selectedItemTypes:\r\n",
        "      yield element\r\n",
        "\r\n",
        "#sum up the list of profits in the value list\r\n",
        "def SumFn(element):\r\n",
        "  (key, val ) = element\r\n",
        "  return (key,sum(val))\r\n",
        "\r\n",
        "#min and max of the list of Tital revenue in the value list\r\n",
        "def MinMaxFn(element):\r\n",
        "  (key, val ) = element\r\n",
        "  return (key,min(val),max(val))\r\n",
        "\r\n",
        "inp = (\r\n",
        "    p1\r\n",
        "    | \"Read csv file\" >> beam.io.ReadFromText('SalesRecords.csv',skip_header_lines=1)\r\n",
        "    | \"Convert the rows into arrays\" >> beam.Map(lambda record:record.split(\",\"))\r\n",
        "    )\r\n",
        "\r\n",
        "case1 = (\r\n",
        "    inp \r\n",
        "    | \"Filter on the givem Item Types\" >> beam.ParDo(FilterItems())\r\n",
        "    | \"Create a tuple of (Item Type, Total Profit)\" >> beam.Map(lambda record: (record[2],float(record[13])))\r\n",
        "    | \"collect up the profits\" >> beam.GroupByKey()\r\n",
        "    | \"sum the profits\" >> beam.Map(SumFn)\r\n",
        "    | \"print on terminal\" >> beam.Map(print)\r\n",
        "    | \"writing op to text file\" >> beam.io.WriteToText('case1','end.txt',True,header=(\"Item Type\",\"Total Profits\"))\r\n",
        "    )\r\n",
        "\r\n",
        "case2 = (\r\n",
        "    inp\r\n",
        "    | \"filter transactions which occured online and in 2011\" >>\r\n",
        "             beam.Filter(lambda row : (row[3]=='Online') and row[5][-4:]=='2011')\r\n",
        "    | \"create a pcollection of country and total revenue\" >> beam.Map(lambda row: (row[1],float(row[11])))\r\n",
        "    | \"group by country\" >> beam.GroupByKey()\r\n",
        "    | 'Determine Min Max' >> beam.Map(MinMaxFn)\r\n",
        "    | \"writing op2 to text file\" >> beam.io.WriteToText('case2','end.txt',True,header=(\"Country\",\"Min Order(Rs)\",\"Ma Order(Rs)\"))\r\n",
        "    | beam.Map(print)\r\n",
        "    )\r\n",
        "\r\n",
        "#run the pipeline\r\n",
        "p1.run()"
      ],
      "execution_count": 22,
      "outputs": [
        {
          "output_type": "stream",
          "text": [
            "case2-00000-of-00001end.txt\n",
            "('Fruits', 499972690.6800023)\n",
            "('Clothes', 15332166989.279985)\n",
            "('Meat', 11933838487.999947)\n",
            "('Snacks', 11505215029.979986)\n",
            "CPU times: user 7.87 s, sys: 108 ms, total: 7.98 s\n",
            "Wall time: 8.3 s\n"
          ],
          "name": "stdout"
        }
      ]
    }
  ]
}